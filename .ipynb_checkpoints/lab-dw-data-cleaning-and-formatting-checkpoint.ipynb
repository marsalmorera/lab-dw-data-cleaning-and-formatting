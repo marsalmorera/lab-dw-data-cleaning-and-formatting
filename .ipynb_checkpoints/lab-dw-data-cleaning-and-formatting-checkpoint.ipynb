{
 "cells": [
  {
   "cell_type": "markdown",
   "id": "25d7736c-ba17-4aff-b6bb-66eba20fbf4e",
   "metadata": {
    "id": "25d7736c-ba17-4aff-b6bb-66eba20fbf4e"
   },
   "source": [
    "# Lab | Data Cleaning and Formatting"
   ]
  },
  {
   "cell_type": "markdown",
   "id": "d1973e9e-8be6-4039-b70e-d73ee0d94c99",
   "metadata": {
    "id": "d1973e9e-8be6-4039-b70e-d73ee0d94c99"
   },
   "source": [
    "In this lab, we will be working with the customer data from an insurance company, which can be found in the CSV file located at the following link: https://raw.githubusercontent.com/data-bootcamp-v4/data/main/file1.csv\n"
   ]
  },
  {
   "cell_type": "markdown",
   "id": "31b8a9e7-7db9-4604-991b-ef6771603e57",
   "metadata": {
    "id": "31b8a9e7-7db9-4604-991b-ef6771603e57"
   },
   "source": [
    "# Challenge 1: Data Cleaning and Formatting"
   ]
  },
  {
   "cell_type": "markdown",
   "id": "81553f19-9f2c-484b-8940-520aff884022",
   "metadata": {
    "id": "81553f19-9f2c-484b-8940-520aff884022"
   },
   "source": [
    "## Exercise 1: Cleaning Column Names"
   ]
  },
  {
   "cell_type": "markdown",
   "id": "34a929f4-1be4-4fa8-adda-42ffd920be90",
   "metadata": {
    "id": "34a929f4-1be4-4fa8-adda-42ffd920be90"
   },
   "source": [
    "To ensure consistency and ease of use, standardize the column names of the dataframe. Start by taking a first look at the dataframe and identifying any column names that need to be modified. Use appropriate naming conventions and make sure that column names are descriptive and informative.\n",
    "\n",
    "*Hint*:\n",
    "- *Column names should be in lower case*\n",
    "- *White spaces in column names should be replaced by `_`*\n",
    "- *`st` could be replaced for `state`*"
   ]
  },
  {
   "cell_type": "code",
   "execution_count": 6,
   "id": "5810735c-8056-4442-bbf2-dda38d3e284a",
   "metadata": {
    "id": "5810735c-8056-4442-bbf2-dda38d3e284a"
   },
   "outputs": [],
   "source": [
    "import pandas as pd\n",
    "url = 'https://raw.githubusercontent.com/data-bootcamp-v4/data/main/file1.csv'\n",
    "df = pd.read_csv(url)"
   ]
  },
  {
   "cell_type": "code",
   "execution_count": 7,
   "id": "1f3f7baf-b24f-4932-b754-f95c70d82354",
   "metadata": {},
   "outputs": [
    {
     "data": {
      "text/html": [
       "<div>\n",
       "<style scoped>\n",
       "    .dataframe tbody tr th:only-of-type {\n",
       "        vertical-align: middle;\n",
       "    }\n",
       "\n",
       "    .dataframe tbody tr th {\n",
       "        vertical-align: top;\n",
       "    }\n",
       "\n",
       "    .dataframe thead th {\n",
       "        text-align: right;\n",
       "    }\n",
       "</style>\n",
       "<table border=\"1\" class=\"dataframe\">\n",
       "  <thead>\n",
       "    <tr style=\"text-align: right;\">\n",
       "      <th></th>\n",
       "      <th>Customer</th>\n",
       "      <th>ST</th>\n",
       "      <th>GENDER</th>\n",
       "      <th>Education</th>\n",
       "      <th>Customer Lifetime Value</th>\n",
       "      <th>Income</th>\n",
       "      <th>Monthly Premium Auto</th>\n",
       "      <th>Number of Open Complaints</th>\n",
       "      <th>Policy Type</th>\n",
       "      <th>Vehicle Class</th>\n",
       "      <th>Total Claim Amount</th>\n",
       "    </tr>\n",
       "  </thead>\n",
       "  <tbody>\n",
       "    <tr>\n",
       "      <th>0</th>\n",
       "      <td>RB50392</td>\n",
       "      <td>Washington</td>\n",
       "      <td>NaN</td>\n",
       "      <td>Master</td>\n",
       "      <td>NaN</td>\n",
       "      <td>0.0</td>\n",
       "      <td>1000.0</td>\n",
       "      <td>1/0/00</td>\n",
       "      <td>Personal Auto</td>\n",
       "      <td>Four-Door Car</td>\n",
       "      <td>2.704934</td>\n",
       "    </tr>\n",
       "    <tr>\n",
       "      <th>1</th>\n",
       "      <td>QZ44356</td>\n",
       "      <td>Arizona</td>\n",
       "      <td>F</td>\n",
       "      <td>Bachelor</td>\n",
       "      <td>697953.59%</td>\n",
       "      <td>0.0</td>\n",
       "      <td>94.0</td>\n",
       "      <td>1/0/00</td>\n",
       "      <td>Personal Auto</td>\n",
       "      <td>Four-Door Car</td>\n",
       "      <td>1131.464935</td>\n",
       "    </tr>\n",
       "    <tr>\n",
       "      <th>2</th>\n",
       "      <td>AI49188</td>\n",
       "      <td>Nevada</td>\n",
       "      <td>F</td>\n",
       "      <td>Bachelor</td>\n",
       "      <td>1288743.17%</td>\n",
       "      <td>48767.0</td>\n",
       "      <td>108.0</td>\n",
       "      <td>1/0/00</td>\n",
       "      <td>Personal Auto</td>\n",
       "      <td>Two-Door Car</td>\n",
       "      <td>566.472247</td>\n",
       "    </tr>\n",
       "    <tr>\n",
       "      <th>3</th>\n",
       "      <td>WW63253</td>\n",
       "      <td>California</td>\n",
       "      <td>M</td>\n",
       "      <td>Bachelor</td>\n",
       "      <td>764586.18%</td>\n",
       "      <td>0.0</td>\n",
       "      <td>106.0</td>\n",
       "      <td>1/0/00</td>\n",
       "      <td>Corporate Auto</td>\n",
       "      <td>SUV</td>\n",
       "      <td>529.881344</td>\n",
       "    </tr>\n",
       "    <tr>\n",
       "      <th>4</th>\n",
       "      <td>GA49547</td>\n",
       "      <td>Washington</td>\n",
       "      <td>M</td>\n",
       "      <td>High School or Below</td>\n",
       "      <td>536307.65%</td>\n",
       "      <td>36357.0</td>\n",
       "      <td>68.0</td>\n",
       "      <td>1/0/00</td>\n",
       "      <td>Personal Auto</td>\n",
       "      <td>Four-Door Car</td>\n",
       "      <td>17.269323</td>\n",
       "    </tr>\n",
       "  </tbody>\n",
       "</table>\n",
       "</div>"
      ],
      "text/plain": [
       "  Customer          ST GENDER             Education Customer Lifetime Value  \\\n",
       "0  RB50392  Washington    NaN                Master                     NaN   \n",
       "1  QZ44356     Arizona      F              Bachelor              697953.59%   \n",
       "2  AI49188      Nevada      F              Bachelor             1288743.17%   \n",
       "3  WW63253  California      M              Bachelor              764586.18%   \n",
       "4  GA49547  Washington      M  High School or Below              536307.65%   \n",
       "\n",
       "    Income  Monthly Premium Auto Number of Open Complaints     Policy Type  \\\n",
       "0      0.0                1000.0                    1/0/00   Personal Auto   \n",
       "1      0.0                  94.0                    1/0/00   Personal Auto   \n",
       "2  48767.0                 108.0                    1/0/00   Personal Auto   \n",
       "3      0.0                 106.0                    1/0/00  Corporate Auto   \n",
       "4  36357.0                  68.0                    1/0/00   Personal Auto   \n",
       "\n",
       "   Vehicle Class  Total Claim Amount  \n",
       "0  Four-Door Car            2.704934  \n",
       "1  Four-Door Car         1131.464935  \n",
       "2   Two-Door Car          566.472247  \n",
       "3            SUV          529.881344  \n",
       "4  Four-Door Car           17.269323  "
      ]
     },
     "execution_count": 7,
     "metadata": {},
     "output_type": "execute_result"
    }
   ],
   "source": [
    "df.head()"
   ]
  },
  {
   "cell_type": "code",
   "execution_count": 8,
   "id": "ef1c4e5c-66e1-4500-8ab6-95431799107a",
   "metadata": {},
   "outputs": [
    {
     "data": {
      "text/html": [
       "<div>\n",
       "<style scoped>\n",
       "    .dataframe tbody tr th:only-of-type {\n",
       "        vertical-align: middle;\n",
       "    }\n",
       "\n",
       "    .dataframe tbody tr th {\n",
       "        vertical-align: top;\n",
       "    }\n",
       "\n",
       "    .dataframe thead th {\n",
       "        text-align: right;\n",
       "    }\n",
       "</style>\n",
       "<table border=\"1\" class=\"dataframe\">\n",
       "  <thead>\n",
       "    <tr style=\"text-align: right;\">\n",
       "      <th></th>\n",
       "      <th>customer</th>\n",
       "      <th>state</th>\n",
       "      <th>gender</th>\n",
       "      <th>education</th>\n",
       "      <th>customer_lifetime_value</th>\n",
       "      <th>income</th>\n",
       "      <th>monthly_premium_auto</th>\n",
       "      <th>number_of_open_complaints</th>\n",
       "      <th>policy_type</th>\n",
       "      <th>vehicle_class</th>\n",
       "      <th>total_claim_amount</th>\n",
       "    </tr>\n",
       "  </thead>\n",
       "  <tbody>\n",
       "  </tbody>\n",
       "</table>\n",
       "</div>"
      ],
      "text/plain": [
       "Empty DataFrame\n",
       "Columns: [customer, state, gender, education, customer_lifetime_value, income, monthly_premium_auto, number_of_open_complaints, policy_type, vehicle_class, total_claim_amount]\n",
       "Index: []"
      ]
     },
     "execution_count": 8,
     "metadata": {},
     "output_type": "execute_result"
    }
   ],
   "source": [
    "df.columns = [col.lower().replace(\" \", \"_\") for col in df.columns]\n",
    "df = df.rename(columns={\"st\": \"state\"})\n",
    "df.head(0)"
   ]
  },
  {
   "cell_type": "markdown",
   "id": "9cb501ec-36ff-4589-b872-6252bb150316",
   "metadata": {
    "id": "9cb501ec-36ff-4589-b872-6252bb150316"
   },
   "source": [
    "## Exercise 2: Cleaning invalid Values"
   ]
  },
  {
   "cell_type": "markdown",
   "id": "771fdcf3-8e20-4b06-9c24-3a93ba2b0909",
   "metadata": {
    "id": "771fdcf3-8e20-4b06-9c24-3a93ba2b0909"
   },
   "source": [
    "The dataset contains columns with inconsistent and incorrect values that could affect the accuracy of our analysis. Therefore, we need to clean these columns to ensure that they only contain valid data.\n",
    "\n",
    "Note that this exercise will focus only on cleaning inconsistent values and will not involve handling null values (NaN or None).\n",
    "\n",
    "*Hint*:\n",
    "- *Gender column contains various inconsistent values such as \"F\", \"M\", \"Femal\", \"Male\", \"female\", which need to be standardized, for example, to \"M\" and \"F\".*\n",
    "- *State abbreviations be can replaced with its full name, for example \"AZ\": \"Arizona\", \"Cali\": \"California\", \"WA\": \"Washington\"*\n",
    "- *In education, \"Bachelors\" could be replaced by \"Bachelor\"*\n",
    "- *In Customer Lifetime Value, delete the `%` character*\n",
    "- *In vehicle class, \"Sports Car\", \"Luxury SUV\" and \"Luxury Car\" could be replaced by \"Luxury\"*"
   ]
  },
  {
   "cell_type": "code",
   "execution_count": 11,
   "id": "3f8ee5cb-50ab-48af-8a9f-9a389804033c",
   "metadata": {
    "id": "3f8ee5cb-50ab-48af-8a9f-9a389804033c"
   },
   "outputs": [],
   "source": [
    "# Change Gender \n",
    "df.gender=df.gender.replace(\"Female\", \"F\") \n",
    "df.gender=df.gender.replace(\"Male\", \"M\")\n",
    "df.gender=df.gender.replace(\"female\", \"F\")\n",
    "df.gender=df.gender.replace(\"Femal\", \"F\")"
   ]
  },
  {
   "cell_type": "code",
   "execution_count": 12,
   "id": "d4f49be2-e507-4d79-a89c-99c2263cdd50",
   "metadata": {},
   "outputs": [
    {
     "data": {
      "text/plain": [
       "gender\n",
       "F    502\n",
       "M    452\n",
       "Name: count, dtype: int64"
      ]
     },
     "execution_count": 12,
     "metadata": {},
     "output_type": "execute_result"
    }
   ],
   "source": [
    "df[\"gender\"].value_counts()"
   ]
  },
  {
   "cell_type": "code",
   "execution_count": 13,
   "id": "293907d0-37e1-47a8-acce-152014dbbd52",
   "metadata": {},
   "outputs": [],
   "source": [
    "# Change the state using just one. \n",
    "df.state=df.state.replace({\"WA\": \"Washington\",\n",
    "                           \"AZ\": \"Arizona\",\n",
    "                           \"Cali\": \"California\",\n",
    "                          })"
   ]
  },
  {
   "cell_type": "code",
   "execution_count": 14,
   "id": "1620d81a-c076-4ae7-8d8e-d0884c4018a8",
   "metadata": {},
   "outputs": [
    {
     "data": {
      "text/plain": [
       "state\n",
       "California    331\n",
       "Oregon        320\n",
       "Arizona       211\n",
       "Washington    111\n",
       "Nevada         98\n",
       "Name: count, dtype: int64"
      ]
     },
     "execution_count": 14,
     "metadata": {},
     "output_type": "execute_result"
    }
   ],
   "source": [
    "df[\"state\"].value_counts()"
   ]
  },
  {
   "cell_type": "code",
   "execution_count": 15,
   "id": "c333abdb-581e-4cff-a4be-4b4a37b66534",
   "metadata": {},
   "outputs": [],
   "source": [
    "#trying Isi version. \n",
    "df['education']=df['education'].replace(\"Bachelors\", \"Bachelor\") "
   ]
  },
  {
   "cell_type": "code",
   "execution_count": 16,
   "id": "ccd1fd99-705f-4dd2-b1e1-9487520168f8",
   "metadata": {},
   "outputs": [
    {
     "data": {
      "text/plain": [
       "education\n",
       "Bachelor                331\n",
       "College                 313\n",
       "High School or Below    296\n",
       "Master                   94\n",
       "Doctor                   37\n",
       "Name: count, dtype: int64"
      ]
     },
     "execution_count": 16,
     "metadata": {},
     "output_type": "execute_result"
    }
   ],
   "source": [
    "df[\"education\"].value_counts()"
   ]
  },
  {
   "cell_type": "code",
   "execution_count": 17,
   "id": "973f62f8-0eac-4463-96b4-f5c3ffca719e",
   "metadata": {},
   "outputs": [],
   "source": [
    "# In customer Liftetime Value, delete the % character. \n",
    "df['customer_lifetime_value'] = df['customer_lifetime_value'].str.replace('%', '')\n",
    "df['customer_lifetime_value'] = pd.to_numeric(df['customer_lifetime_value'], errors='coerce')"
   ]
  },
  {
   "cell_type": "code",
   "execution_count": 18,
   "id": "96ebec01-a5a4-44c0-80ac-950636bd1d8e",
   "metadata": {},
   "outputs": [
    {
     "data": {
      "text/html": [
       "<div>\n",
       "<style scoped>\n",
       "    .dataframe tbody tr th:only-of-type {\n",
       "        vertical-align: middle;\n",
       "    }\n",
       "\n",
       "    .dataframe tbody tr th {\n",
       "        vertical-align: top;\n",
       "    }\n",
       "\n",
       "    .dataframe thead th {\n",
       "        text-align: right;\n",
       "    }\n",
       "</style>\n",
       "<table border=\"1\" class=\"dataframe\">\n",
       "  <thead>\n",
       "    <tr style=\"text-align: right;\">\n",
       "      <th></th>\n",
       "      <th>customer</th>\n",
       "      <th>state</th>\n",
       "      <th>gender</th>\n",
       "      <th>education</th>\n",
       "      <th>customer_lifetime_value</th>\n",
       "      <th>income</th>\n",
       "      <th>monthly_premium_auto</th>\n",
       "      <th>number_of_open_complaints</th>\n",
       "      <th>policy_type</th>\n",
       "      <th>vehicle_class</th>\n",
       "      <th>total_claim_amount</th>\n",
       "    </tr>\n",
       "  </thead>\n",
       "  <tbody>\n",
       "    <tr>\n",
       "      <th>79</th>\n",
       "      <td>OM82309</td>\n",
       "      <td>California</td>\n",
       "      <td>NaN</td>\n",
       "      <td>Bachelor</td>\n",
       "      <td>5816655.35</td>\n",
       "      <td>61321.0</td>\n",
       "      <td>186.0</td>\n",
       "      <td>1/1/00</td>\n",
       "      <td>Personal Auto</td>\n",
       "      <td>Luxury Car</td>\n",
       "      <td>427.631210</td>\n",
       "    </tr>\n",
       "    <tr>\n",
       "      <th>375</th>\n",
       "      <td>CP85232</td>\n",
       "      <td>Arizona</td>\n",
       "      <td>M</td>\n",
       "      <td>College</td>\n",
       "      <td>4479546.94</td>\n",
       "      <td>58778.0</td>\n",
       "      <td>126.0</td>\n",
       "      <td>1/0/00</td>\n",
       "      <td>Special Auto</td>\n",
       "      <td>SUV</td>\n",
       "      <td>302.033971</td>\n",
       "    </tr>\n",
       "    <tr>\n",
       "      <th>836</th>\n",
       "      <td>FG91922</td>\n",
       "      <td>Arizona</td>\n",
       "      <td>M</td>\n",
       "      <td>Master</td>\n",
       "      <td>4022401.36</td>\n",
       "      <td>48587.0</td>\n",
       "      <td>111.0</td>\n",
       "      <td>1/0/00</td>\n",
       "      <td>Personal Auto</td>\n",
       "      <td>SUV</td>\n",
       "      <td>532.800000</td>\n",
       "    </tr>\n",
       "    <tr>\n",
       "      <th>1002</th>\n",
       "      <td>WA15684</td>\n",
       "      <td>Oregon</td>\n",
       "      <td>M</td>\n",
       "      <td>College</td>\n",
       "      <td>3844585.59</td>\n",
       "      <td>27398.0</td>\n",
       "      <td>125.0</td>\n",
       "      <td>1/1/00</td>\n",
       "      <td>Personal Auto</td>\n",
       "      <td>SUV</td>\n",
       "      <td>600.000000</td>\n",
       "    </tr>\n",
       "    <tr>\n",
       "      <th>50</th>\n",
       "      <td>WE95729</td>\n",
       "      <td>Oregon</td>\n",
       "      <td>NaN</td>\n",
       "      <td>College</td>\n",
       "      <td>3670742.64</td>\n",
       "      <td>24804.0</td>\n",
       "      <td>104.0</td>\n",
       "      <td>1/0/00</td>\n",
       "      <td>Personal Auto</td>\n",
       "      <td>SUV</td>\n",
       "      <td>593.830288</td>\n",
       "    </tr>\n",
       "    <tr>\n",
       "      <th>...</th>\n",
       "      <td>...</td>\n",
       "      <td>...</td>\n",
       "      <td>...</td>\n",
       "      <td>...</td>\n",
       "      <td>...</td>\n",
       "      <td>...</td>\n",
       "      <td>...</td>\n",
       "      <td>...</td>\n",
       "      <td>...</td>\n",
       "      <td>...</td>\n",
       "      <td>...</td>\n",
       "    </tr>\n",
       "    <tr>\n",
       "      <th>4003</th>\n",
       "      <td>NaN</td>\n",
       "      <td>NaN</td>\n",
       "      <td>NaN</td>\n",
       "      <td>NaN</td>\n",
       "      <td>NaN</td>\n",
       "      <td>NaN</td>\n",
       "      <td>NaN</td>\n",
       "      <td>NaN</td>\n",
       "      <td>NaN</td>\n",
       "      <td>NaN</td>\n",
       "      <td>NaN</td>\n",
       "    </tr>\n",
       "    <tr>\n",
       "      <th>4004</th>\n",
       "      <td>NaN</td>\n",
       "      <td>NaN</td>\n",
       "      <td>NaN</td>\n",
       "      <td>NaN</td>\n",
       "      <td>NaN</td>\n",
       "      <td>NaN</td>\n",
       "      <td>NaN</td>\n",
       "      <td>NaN</td>\n",
       "      <td>NaN</td>\n",
       "      <td>NaN</td>\n",
       "      <td>NaN</td>\n",
       "    </tr>\n",
       "    <tr>\n",
       "      <th>4005</th>\n",
       "      <td>NaN</td>\n",
       "      <td>NaN</td>\n",
       "      <td>NaN</td>\n",
       "      <td>NaN</td>\n",
       "      <td>NaN</td>\n",
       "      <td>NaN</td>\n",
       "      <td>NaN</td>\n",
       "      <td>NaN</td>\n",
       "      <td>NaN</td>\n",
       "      <td>NaN</td>\n",
       "      <td>NaN</td>\n",
       "    </tr>\n",
       "    <tr>\n",
       "      <th>4006</th>\n",
       "      <td>NaN</td>\n",
       "      <td>NaN</td>\n",
       "      <td>NaN</td>\n",
       "      <td>NaN</td>\n",
       "      <td>NaN</td>\n",
       "      <td>NaN</td>\n",
       "      <td>NaN</td>\n",
       "      <td>NaN</td>\n",
       "      <td>NaN</td>\n",
       "      <td>NaN</td>\n",
       "      <td>NaN</td>\n",
       "    </tr>\n",
       "    <tr>\n",
       "      <th>4007</th>\n",
       "      <td>NaN</td>\n",
       "      <td>NaN</td>\n",
       "      <td>NaN</td>\n",
       "      <td>NaN</td>\n",
       "      <td>NaN</td>\n",
       "      <td>NaN</td>\n",
       "      <td>NaN</td>\n",
       "      <td>NaN</td>\n",
       "      <td>NaN</td>\n",
       "      <td>NaN</td>\n",
       "      <td>NaN</td>\n",
       "    </tr>\n",
       "  </tbody>\n",
       "</table>\n",
       "<p>4008 rows × 11 columns</p>\n",
       "</div>"
      ],
      "text/plain": [
       "     customer       state gender education  customer_lifetime_value   income  \\\n",
       "79    OM82309  California    NaN  Bachelor               5816655.35  61321.0   \n",
       "375   CP85232     Arizona      M   College               4479546.94  58778.0   \n",
       "836   FG91922     Arizona      M    Master               4022401.36  48587.0   \n",
       "1002  WA15684      Oregon      M   College               3844585.59  27398.0   \n",
       "50    WE95729      Oregon    NaN   College               3670742.64  24804.0   \n",
       "...       ...         ...    ...       ...                      ...      ...   \n",
       "4003      NaN         NaN    NaN       NaN                      NaN      NaN   \n",
       "4004      NaN         NaN    NaN       NaN                      NaN      NaN   \n",
       "4005      NaN         NaN    NaN       NaN                      NaN      NaN   \n",
       "4006      NaN         NaN    NaN       NaN                      NaN      NaN   \n",
       "4007      NaN         NaN    NaN       NaN                      NaN      NaN   \n",
       "\n",
       "      monthly_premium_auto number_of_open_complaints    policy_type  \\\n",
       "79                   186.0                    1/1/00  Personal Auto   \n",
       "375                  126.0                    1/0/00   Special Auto   \n",
       "836                  111.0                    1/0/00  Personal Auto   \n",
       "1002                 125.0                    1/1/00  Personal Auto   \n",
       "50                   104.0                    1/0/00  Personal Auto   \n",
       "...                    ...                       ...            ...   \n",
       "4003                   NaN                       NaN            NaN   \n",
       "4004                   NaN                       NaN            NaN   \n",
       "4005                   NaN                       NaN            NaN   \n",
       "4006                   NaN                       NaN            NaN   \n",
       "4007                   NaN                       NaN            NaN   \n",
       "\n",
       "     vehicle_class  total_claim_amount  \n",
       "79      Luxury Car          427.631210  \n",
       "375            SUV          302.033971  \n",
       "836            SUV          532.800000  \n",
       "1002           SUV          600.000000  \n",
       "50             SUV          593.830288  \n",
       "...            ...                 ...  \n",
       "4003           NaN                 NaN  \n",
       "4004           NaN                 NaN  \n",
       "4005           NaN                 NaN  \n",
       "4006           NaN                 NaN  \n",
       "4007           NaN                 NaN  \n",
       "\n",
       "[4008 rows x 11 columns]"
      ]
     },
     "execution_count": 18,
     "metadata": {},
     "output_type": "execute_result"
    }
   ],
   "source": [
    "df.sort_values(by='customer_lifetime_value', ascending = False) # Question how to apply / 100. "
   ]
  },
  {
   "cell_type": "code",
   "execution_count": 19,
   "id": "4e5b894d-b384-4276-84ed-6986c35b4c41",
   "metadata": {},
   "outputs": [
    {
     "data": {
      "text/plain": [
       "vehicle_class\n",
       "Four-Door Car    576\n",
       "Two-Door Car     205\n",
       "SUV              199\n",
       "Sports Car        57\n",
       "Luxury SUV        20\n",
       "Luxury Car        14\n",
       "Name: count, dtype: int64"
      ]
     },
     "execution_count": 19,
     "metadata": {},
     "output_type": "execute_result"
    }
   ],
   "source": [
    "df[\"vehicle_class\"].value_counts()"
   ]
  },
  {
   "cell_type": "code",
   "execution_count": 20,
   "id": "2a2ed19e-065c-468e-9c30-133638311e9f",
   "metadata": {},
   "outputs": [],
   "source": [
    "df.vehicle_class=df.vehicle_class.replace({\"Sports Car\": \"Luxury\",\n",
    "                           \"Luxury SUV\": \"Luxury\",\n",
    "                           \"Luxury Car\": \"Luxury\",\n",
    "                          })"
   ]
  },
  {
   "cell_type": "code",
   "execution_count": 21,
   "id": "c7208000-2e1f-43e6-9638-6edcd1d1e11a",
   "metadata": {},
   "outputs": [
    {
     "data": {
      "text/plain": [
       "vehicle_class\n",
       "Four-Door Car    576\n",
       "Two-Door Car     205\n",
       "SUV              199\n",
       "Luxury            91\n",
       "Name: count, dtype: int64"
      ]
     },
     "execution_count": 21,
     "metadata": {},
     "output_type": "execute_result"
    }
   ],
   "source": [
    "df[\"vehicle_class\"].value_counts()"
   ]
  },
  {
   "cell_type": "markdown",
   "id": "85ff78ce-0174-4890-9db3-8048b7d7d2d0",
   "metadata": {
    "id": "85ff78ce-0174-4890-9db3-8048b7d7d2d0"
   },
   "source": [
    "## Exercise 3: Formatting data types"
   ]
  },
  {
   "cell_type": "markdown",
   "id": "b91c2cf8-79a2-4baf-9f65-ff2fb22270bd",
   "metadata": {
    "id": "b91c2cf8-79a2-4baf-9f65-ff2fb22270bd"
   },
   "source": [
    "The data types of many columns in the dataset appear to be incorrect. This could impact the accuracy of our analysis. To ensure accurate analysis, we need to correct the data types of these columns. Please update the data types of the columns as appropriate."
   ]
  },
  {
   "cell_type": "markdown",
   "id": "43e5d853-ff9e-43b2-9d92-aef2f78764f3",
   "metadata": {
    "id": "43e5d853-ff9e-43b2-9d92-aef2f78764f3"
   },
   "source": [
    "It is important to note that this exercise does not involve handling null values (NaN or None)."
   ]
  },
  {
   "cell_type": "markdown",
   "id": "329ca691-9196-4419-8969-3596746237a1",
   "metadata": {
    "id": "329ca691-9196-4419-8969-3596746237a1"
   },
   "source": [
    "*Hint*:\n",
    "- *Customer lifetime value should be numeric*\n",
    "- *Number of open complaints has an incorrect format. Look at the different values it takes with `unique()` and take the middle value. As an example, 1/5/00 should be 5. Number of open complaints is a string - remember you can use `split()` to deal with it and take the number you need. Finally, since it should be numeric, cast the column to be in its proper type.*"
   ]
  },
  {
   "cell_type": "code",
   "execution_count": 26,
   "id": "eb8f5991-73e9-405f-bf1c-6b7c589379a9",
   "metadata": {
    "id": "eb8f5991-73e9-405f-bf1c-6b7c589379a9"
   },
   "outputs": [
    {
     "data": {
      "text/plain": [
       "customer                      object\n",
       "state                         object\n",
       "gender                        object\n",
       "education                     object\n",
       "customer_lifetime_value      float64\n",
       "income                       float64\n",
       "monthly_premium_auto         float64\n",
       "number_of_open_complaints     object\n",
       "policy_type                   object\n",
       "vehicle_class                 object\n",
       "total_claim_amount           float64\n",
       "dtype: object"
      ]
     },
     "execution_count": 26,
     "metadata": {},
     "output_type": "execute_result"
    }
   ],
   "source": [
    "#Changed in the previus exercicse. \n",
    "df.dtypes"
   ]
  },
  {
   "cell_type": "code",
   "execution_count": 27,
   "id": "6ab1930c-00f9-49e8-95f8-b60220212014",
   "metadata": {},
   "outputs": [
    {
     "data": {
      "text/plain": [
       "array(['1/0/00', '1/2/00', '1/1/00', '1/3/00', '1/5/00', '1/4/00', nan],\n",
       "      dtype=object)"
      ]
     },
     "execution_count": 27,
     "metadata": {},
     "output_type": "execute_result"
    }
   ],
   "source": [
    "df['number_of_open_complaints'].unique()"
   ]
  },
  {
   "cell_type": "code",
   "execution_count": 28,
   "id": "5ba78ad9-4ecc-4a31-ac0d-0e96242a0538",
   "metadata": {},
   "outputs": [
    {
     "ename": "ValueError",
     "evalue": "invalid literal for int() with base 10: '1/0/00'",
     "output_type": "error",
     "traceback": [
      "\u001b[0;31m---------------------------------------------------------------------------\u001b[0m",
      "\u001b[0;31mValueError\u001b[0m                                Traceback (most recent call last)",
      "Cell \u001b[0;32mIn[28], line 2\u001b[0m\n\u001b[1;32m      1\u001b[0m \u001b[38;5;66;03m# Cannot transform it into an int. \u001b[39;00m\n\u001b[0;32m----> 2\u001b[0m df[\u001b[38;5;124m'\u001b[39m\u001b[38;5;124mnumber_of_open_complaints\u001b[39m\u001b[38;5;124m'\u001b[39m] \u001b[38;5;241m=\u001b[39m df[\u001b[38;5;124m'\u001b[39m\u001b[38;5;124mnumber_of_open_complaints\u001b[39m\u001b[38;5;124m'\u001b[39m]\u001b[38;5;241m.\u001b[39mastype(\u001b[38;5;28mint\u001b[39m)\n",
      "File \u001b[0;32m/opt/anaconda3/lib/python3.12/site-packages/pandas/core/generic.py:6643\u001b[0m, in \u001b[0;36mNDFrame.astype\u001b[0;34m(self, dtype, copy, errors)\u001b[0m\n\u001b[1;32m   6637\u001b[0m     results \u001b[38;5;241m=\u001b[39m [\n\u001b[1;32m   6638\u001b[0m         ser\u001b[38;5;241m.\u001b[39mastype(dtype, copy\u001b[38;5;241m=\u001b[39mcopy, errors\u001b[38;5;241m=\u001b[39merrors) \u001b[38;5;28;01mfor\u001b[39;00m _, ser \u001b[38;5;129;01min\u001b[39;00m \u001b[38;5;28mself\u001b[39m\u001b[38;5;241m.\u001b[39mitems()\n\u001b[1;32m   6639\u001b[0m     ]\n\u001b[1;32m   6641\u001b[0m \u001b[38;5;28;01melse\u001b[39;00m:\n\u001b[1;32m   6642\u001b[0m     \u001b[38;5;66;03m# else, only a single dtype is given\u001b[39;00m\n\u001b[0;32m-> 6643\u001b[0m     new_data \u001b[38;5;241m=\u001b[39m \u001b[38;5;28mself\u001b[39m\u001b[38;5;241m.\u001b[39m_mgr\u001b[38;5;241m.\u001b[39mastype(dtype\u001b[38;5;241m=\u001b[39mdtype, copy\u001b[38;5;241m=\u001b[39mcopy, errors\u001b[38;5;241m=\u001b[39merrors)\n\u001b[1;32m   6644\u001b[0m     res \u001b[38;5;241m=\u001b[39m \u001b[38;5;28mself\u001b[39m\u001b[38;5;241m.\u001b[39m_constructor_from_mgr(new_data, axes\u001b[38;5;241m=\u001b[39mnew_data\u001b[38;5;241m.\u001b[39maxes)\n\u001b[1;32m   6645\u001b[0m     \u001b[38;5;28;01mreturn\u001b[39;00m res\u001b[38;5;241m.\u001b[39m__finalize__(\u001b[38;5;28mself\u001b[39m, method\u001b[38;5;241m=\u001b[39m\u001b[38;5;124m\"\u001b[39m\u001b[38;5;124mastype\u001b[39m\u001b[38;5;124m\"\u001b[39m)\n",
      "File \u001b[0;32m/opt/anaconda3/lib/python3.12/site-packages/pandas/core/internals/managers.py:430\u001b[0m, in \u001b[0;36mBaseBlockManager.astype\u001b[0;34m(self, dtype, copy, errors)\u001b[0m\n\u001b[1;32m    427\u001b[0m \u001b[38;5;28;01melif\u001b[39;00m using_copy_on_write():\n\u001b[1;32m    428\u001b[0m     copy \u001b[38;5;241m=\u001b[39m \u001b[38;5;28;01mFalse\u001b[39;00m\n\u001b[0;32m--> 430\u001b[0m \u001b[38;5;28;01mreturn\u001b[39;00m \u001b[38;5;28mself\u001b[39m\u001b[38;5;241m.\u001b[39mapply(\n\u001b[1;32m    431\u001b[0m     \u001b[38;5;124m\"\u001b[39m\u001b[38;5;124mastype\u001b[39m\u001b[38;5;124m\"\u001b[39m,\n\u001b[1;32m    432\u001b[0m     dtype\u001b[38;5;241m=\u001b[39mdtype,\n\u001b[1;32m    433\u001b[0m     copy\u001b[38;5;241m=\u001b[39mcopy,\n\u001b[1;32m    434\u001b[0m     errors\u001b[38;5;241m=\u001b[39merrors,\n\u001b[1;32m    435\u001b[0m     using_cow\u001b[38;5;241m=\u001b[39musing_copy_on_write(),\n\u001b[1;32m    436\u001b[0m )\n",
      "File \u001b[0;32m/opt/anaconda3/lib/python3.12/site-packages/pandas/core/internals/managers.py:363\u001b[0m, in \u001b[0;36mBaseBlockManager.apply\u001b[0;34m(self, f, align_keys, **kwargs)\u001b[0m\n\u001b[1;32m    361\u001b[0m         applied \u001b[38;5;241m=\u001b[39m b\u001b[38;5;241m.\u001b[39mapply(f, \u001b[38;5;241m*\u001b[39m\u001b[38;5;241m*\u001b[39mkwargs)\n\u001b[1;32m    362\u001b[0m     \u001b[38;5;28;01melse\u001b[39;00m:\n\u001b[0;32m--> 363\u001b[0m         applied \u001b[38;5;241m=\u001b[39m \u001b[38;5;28mgetattr\u001b[39m(b, f)(\u001b[38;5;241m*\u001b[39m\u001b[38;5;241m*\u001b[39mkwargs)\n\u001b[1;32m    364\u001b[0m     result_blocks \u001b[38;5;241m=\u001b[39m extend_blocks(applied, result_blocks)\n\u001b[1;32m    366\u001b[0m out \u001b[38;5;241m=\u001b[39m \u001b[38;5;28mtype\u001b[39m(\u001b[38;5;28mself\u001b[39m)\u001b[38;5;241m.\u001b[39mfrom_blocks(result_blocks, \u001b[38;5;28mself\u001b[39m\u001b[38;5;241m.\u001b[39maxes)\n",
      "File \u001b[0;32m/opt/anaconda3/lib/python3.12/site-packages/pandas/core/internals/blocks.py:758\u001b[0m, in \u001b[0;36mBlock.astype\u001b[0;34m(self, dtype, copy, errors, using_cow, squeeze)\u001b[0m\n\u001b[1;32m    755\u001b[0m         \u001b[38;5;28;01mraise\u001b[39;00m \u001b[38;5;167;01mValueError\u001b[39;00m(\u001b[38;5;124m\"\u001b[39m\u001b[38;5;124mCan not squeeze with more than one column.\u001b[39m\u001b[38;5;124m\"\u001b[39m)\n\u001b[1;32m    756\u001b[0m     values \u001b[38;5;241m=\u001b[39m values[\u001b[38;5;241m0\u001b[39m, :]  \u001b[38;5;66;03m# type: ignore[call-overload]\u001b[39;00m\n\u001b[0;32m--> 758\u001b[0m new_values \u001b[38;5;241m=\u001b[39m astype_array_safe(values, dtype, copy\u001b[38;5;241m=\u001b[39mcopy, errors\u001b[38;5;241m=\u001b[39merrors)\n\u001b[1;32m    760\u001b[0m new_values \u001b[38;5;241m=\u001b[39m maybe_coerce_values(new_values)\n\u001b[1;32m    762\u001b[0m refs \u001b[38;5;241m=\u001b[39m \u001b[38;5;28;01mNone\u001b[39;00m\n",
      "File \u001b[0;32m/opt/anaconda3/lib/python3.12/site-packages/pandas/core/dtypes/astype.py:237\u001b[0m, in \u001b[0;36mastype_array_safe\u001b[0;34m(values, dtype, copy, errors)\u001b[0m\n\u001b[1;32m    234\u001b[0m     dtype \u001b[38;5;241m=\u001b[39m dtype\u001b[38;5;241m.\u001b[39mnumpy_dtype\n\u001b[1;32m    236\u001b[0m \u001b[38;5;28;01mtry\u001b[39;00m:\n\u001b[0;32m--> 237\u001b[0m     new_values \u001b[38;5;241m=\u001b[39m astype_array(values, dtype, copy\u001b[38;5;241m=\u001b[39mcopy)\n\u001b[1;32m    238\u001b[0m \u001b[38;5;28;01mexcept\u001b[39;00m (\u001b[38;5;167;01mValueError\u001b[39;00m, \u001b[38;5;167;01mTypeError\u001b[39;00m):\n\u001b[1;32m    239\u001b[0m     \u001b[38;5;66;03m# e.g. _astype_nansafe can fail on object-dtype of strings\u001b[39;00m\n\u001b[1;32m    240\u001b[0m     \u001b[38;5;66;03m#  trying to convert to float\u001b[39;00m\n\u001b[1;32m    241\u001b[0m     \u001b[38;5;28;01mif\u001b[39;00m errors \u001b[38;5;241m==\u001b[39m \u001b[38;5;124m\"\u001b[39m\u001b[38;5;124mignore\u001b[39m\u001b[38;5;124m\"\u001b[39m:\n",
      "File \u001b[0;32m/opt/anaconda3/lib/python3.12/site-packages/pandas/core/dtypes/astype.py:182\u001b[0m, in \u001b[0;36mastype_array\u001b[0;34m(values, dtype, copy)\u001b[0m\n\u001b[1;32m    179\u001b[0m     values \u001b[38;5;241m=\u001b[39m values\u001b[38;5;241m.\u001b[39mastype(dtype, copy\u001b[38;5;241m=\u001b[39mcopy)\n\u001b[1;32m    181\u001b[0m \u001b[38;5;28;01melse\u001b[39;00m:\n\u001b[0;32m--> 182\u001b[0m     values \u001b[38;5;241m=\u001b[39m _astype_nansafe(values, dtype, copy\u001b[38;5;241m=\u001b[39mcopy)\n\u001b[1;32m    184\u001b[0m \u001b[38;5;66;03m# in pandas we don't store numpy str dtypes, so convert to object\u001b[39;00m\n\u001b[1;32m    185\u001b[0m \u001b[38;5;28;01mif\u001b[39;00m \u001b[38;5;28misinstance\u001b[39m(dtype, np\u001b[38;5;241m.\u001b[39mdtype) \u001b[38;5;129;01mand\u001b[39;00m \u001b[38;5;28missubclass\u001b[39m(values\u001b[38;5;241m.\u001b[39mdtype\u001b[38;5;241m.\u001b[39mtype, \u001b[38;5;28mstr\u001b[39m):\n",
      "File \u001b[0;32m/opt/anaconda3/lib/python3.12/site-packages/pandas/core/dtypes/astype.py:133\u001b[0m, in \u001b[0;36m_astype_nansafe\u001b[0;34m(arr, dtype, copy, skipna)\u001b[0m\n\u001b[1;32m    129\u001b[0m     \u001b[38;5;28;01mraise\u001b[39;00m \u001b[38;5;167;01mValueError\u001b[39;00m(msg)\n\u001b[1;32m    131\u001b[0m \u001b[38;5;28;01mif\u001b[39;00m copy \u001b[38;5;129;01mor\u001b[39;00m arr\u001b[38;5;241m.\u001b[39mdtype \u001b[38;5;241m==\u001b[39m \u001b[38;5;28mobject\u001b[39m \u001b[38;5;129;01mor\u001b[39;00m dtype \u001b[38;5;241m==\u001b[39m \u001b[38;5;28mobject\u001b[39m:\n\u001b[1;32m    132\u001b[0m     \u001b[38;5;66;03m# Explicit copy, or required since NumPy can't view from / to object.\u001b[39;00m\n\u001b[0;32m--> 133\u001b[0m     \u001b[38;5;28;01mreturn\u001b[39;00m arr\u001b[38;5;241m.\u001b[39mastype(dtype, copy\u001b[38;5;241m=\u001b[39m\u001b[38;5;28;01mTrue\u001b[39;00m)\n\u001b[1;32m    135\u001b[0m \u001b[38;5;28;01mreturn\u001b[39;00m arr\u001b[38;5;241m.\u001b[39mastype(dtype, copy\u001b[38;5;241m=\u001b[39mcopy)\n",
      "\u001b[0;31mValueError\u001b[0m: invalid literal for int() with base 10: '1/0/00'"
     ]
    }
   ],
   "source": [
    "# Cannot transform it into an int. ¿?¿?\n",
    "df['number_of_open_complaints'] = df['number_of_open_complaints'].astype(int)"
   ]
  },
  {
   "cell_type": "markdown",
   "id": "14c52e28-2d0c-4dd2-8bd5-3476e34fadc1",
   "metadata": {
    "id": "14c52e28-2d0c-4dd2-8bd5-3476e34fadc1"
   },
   "source": [
    "## Exercise 4: Dealing with Null values"
   ]
  },
  {
   "cell_type": "markdown",
   "id": "34b9a20f-7d32-4417-975e-1b4dfb0e16cd",
   "metadata": {
    "id": "34b9a20f-7d32-4417-975e-1b4dfb0e16cd"
   },
   "source": [
    "Identify any columns with null or missing values. Identify how many null values each column has. You can use the `isnull()` function in pandas to find columns with null values.\n",
    "\n",
    "Decide on a strategy for handling the null values. There are several options, including:\n",
    "\n",
    "- Drop the rows or columns with null values\n",
    "- Fill the null values with a specific value (such as the column mean or median for numerical variables, and mode for categorical variables)\n",
    "- Fill the null values with the previous or next value in the column\n",
    "- Fill the null values based on a more complex algorithm or model (note: we haven't covered this yet)\n",
    "\n",
    "Implement your chosen strategy to handle the null values. You can use the `fillna()` function in pandas to fill null values or `dropna()` function to drop null values.\n",
    "\n",
    "Verify that your strategy has successfully handled the null values. You can use the `isnull()` function again to check if there are still null values in the dataset.\n",
    "\n",
    "Remember to document your process and explain your reasoning for choosing a particular strategy for handling null values.\n",
    "\n",
    "After formatting data types, as a last step, convert all the numeric variables to integers."
   ]
  },
  {
   "cell_type": "code",
   "execution_count": 29,
   "id": "f184fc35-7831-4836-a0a5-e7f99e01b40e",
   "metadata": {
    "id": "f184fc35-7831-4836-a0a5-e7f99e01b40e"
   },
   "outputs": [
    {
     "data": {
      "text/plain": [
       "customer                     2937\n",
       "state                        2937\n",
       "gender                       3054\n",
       "education                    2937\n",
       "customer_lifetime_value      2940\n",
       "income                       2937\n",
       "monthly_premium_auto         2937\n",
       "number_of_open_complaints    2937\n",
       "policy_type                  2937\n",
       "vehicle_class                2937\n",
       "total_claim_amount           2937\n",
       "dtype: int64"
      ]
     },
     "execution_count": 29,
     "metadata": {},
     "output_type": "execute_result"
    }
   ],
   "source": [
    "# Checking for NaN values. \n",
    "df.isnull().sum()"
   ]
  },
  {
   "cell_type": "code",
   "execution_count": 31,
   "id": "b5b0163c-4407-4de2-be62-5fbde9a338dd",
   "metadata": {},
   "outputs": [
    {
     "data": {
      "text/plain": [
       "(4008, 11)"
      ]
     },
     "execution_count": 31,
     "metadata": {},
     "output_type": "execute_result"
    }
   ],
   "source": [
    "df.shape"
   ]
  },
  {
   "cell_type": "code",
   "execution_count": 33,
   "id": "a273b25d-6cd6-4cee-a73e-6e53e52af950",
   "metadata": {},
   "outputs": [],
   "source": [
    "# Delete the ones that have all NaN values in a row. \n",
    "df = df.dropna(how='all')"
   ]
  },
  {
   "cell_type": "code",
   "execution_count": 35,
   "id": "7a070512-6a2d-4330-89d6-f99d7b31f43a",
   "metadata": {},
   "outputs": [
    {
     "data": {
      "text/plain": [
       "customer                       0\n",
       "state                          0\n",
       "gender                       117\n",
       "education                      0\n",
       "customer_lifetime_value        3\n",
       "income                         0\n",
       "monthly_premium_auto           0\n",
       "number_of_open_complaints      0\n",
       "policy_type                    0\n",
       "vehicle_class                  0\n",
       "total_claim_amount             0\n",
       "dtype: int64"
      ]
     },
     "execution_count": 35,
     "metadata": {},
     "output_type": "execute_result"
    }
   ],
   "source": [
    "df.isnull().sum()"
   ]
  },
  {
   "cell_type": "code",
   "execution_count": 37,
   "id": "e4f95df7-f88a-4fa6-97aa-0ac98a26f435",
   "metadata": {},
   "outputs": [
    {
     "data": {
      "text/plain": [
       "793690.2593445693"
      ]
     },
     "execution_count": 37,
     "metadata": {},
     "output_type": "execute_result"
    }
   ],
   "source": [
    "# Fill the mean with 3 NaN in customer_lifetime_value\n",
    "mean_customer_lifetime = df[\"customer_lifetime_value\"].mean()\n",
    "mean_customer_lifetime"
   ]
  },
  {
   "cell_type": "code",
   "execution_count": 39,
   "id": "cbb26458-8368-4b06-9b82-ff571cb55b96",
   "metadata": {},
   "outputs": [],
   "source": [
    "df[\"customer_lifetime_value\"] = df[\"customer_lifetime_value\"].fillna(round(mean_customer_lifetime,2))"
   ]
  },
  {
   "cell_type": "code",
   "execution_count": 41,
   "id": "b8ba15c2-019e-499c-9f2e-081a21a16986",
   "metadata": {},
   "outputs": [
    {
     "data": {
      "text/plain": [
       "customer                       0\n",
       "state                          0\n",
       "gender                       117\n",
       "education                      0\n",
       "customer_lifetime_value        0\n",
       "income                         0\n",
       "monthly_premium_auto           0\n",
       "number_of_open_complaints      0\n",
       "policy_type                    0\n",
       "vehicle_class                  0\n",
       "total_claim_amount             0\n",
       "dtype: int64"
      ]
     },
     "execution_count": 41,
     "metadata": {},
     "output_type": "execute_result"
    }
   ],
   "source": [
    "df.isnull().sum()"
   ]
  },
  {
   "cell_type": "code",
   "execution_count": 43,
   "id": "8d2b0bc9-11d6-46a5-a5c1-59bc9d20c5fd",
   "metadata": {},
   "outputs": [],
   "source": [
    "import warnings"
   ]
  },
  {
   "cell_type": "code",
   "execution_count": 47,
   "id": "5428b43d-3d00-4920-b434-7dec3af82c2b",
   "metadata": {},
   "outputs": [],
   "source": [
    "import numpy as np #checked with chagpt. "
   ]
  },
  {
   "cell_type": "code",
   "execution_count": 49,
   "id": "0673e21f-6f7a-43e2-96a3-0d706615e9bc",
   "metadata": {},
   "outputs": [],
   "source": [
    "# Just to adds up the last exercise, Fill the null values with the previous or next value in the column. \n",
    "df[\"gender\"] = df[\"gender\"].ffill()"
   ]
  },
  {
   "cell_type": "code",
   "execution_count": 51,
   "id": "2545b427-e0fc-4cd3-98ff-c4635a7c2acc",
   "metadata": {},
   "outputs": [
    {
     "data": {
      "text/plain": [
       "customer                     0\n",
       "state                        0\n",
       "gender                       1\n",
       "education                    0\n",
       "customer_lifetime_value      0\n",
       "income                       0\n",
       "monthly_premium_auto         0\n",
       "number_of_open_complaints    0\n",
       "policy_type                  0\n",
       "vehicle_class                0\n",
       "total_claim_amount           0\n",
       "dtype: int64"
      ]
     },
     "execution_count": 51,
     "metadata": {},
     "output_type": "execute_result"
    }
   ],
   "source": [
    "# I do not understand why there is 1 value NaN. \n",
    "df.isnull().sum()"
   ]
  },
  {
   "cell_type": "code",
   "execution_count": 53,
   "id": "e19c99d0-b569-4dd5-907f-0faafc358c93",
   "metadata": {},
   "outputs": [
    {
     "data": {
      "text/plain": [
       "gender\n",
       "F    587\n",
       "M    483\n",
       "Name: count, dtype: int64"
      ]
     },
     "execution_count": 53,
     "metadata": {},
     "output_type": "execute_result"
    }
   ],
   "source": [
    "df[\"gender\"].value_counts()"
   ]
  },
  {
   "cell_type": "markdown",
   "id": "98416351-e999-4156-9834-9b00a311adfa",
   "metadata": {
    "id": "98416351-e999-4156-9834-9b00a311adfa"
   },
   "source": [
    "## Exercise 5: Dealing with duplicates"
   ]
  },
  {
   "cell_type": "markdown",
   "id": "ea0816a7-a18e-4d4c-b667-a8452a800bd1",
   "metadata": {
    "id": "ea0816a7-a18e-4d4c-b667-a8452a800bd1"
   },
   "source": [
    "Use the `.duplicated()` method to identify any duplicate rows in the dataframe.\n",
    "\n",
    "Decide on a strategy for handling the duplicates. Options include:\n",
    "- Dropping all duplicate rows\n",
    "- Keeping only the first occurrence of each duplicated row\n",
    "- Keeping only the last occurrence of each duplicated row\n",
    "- Dropping duplicates based on a subset of columns\n",
    "- Dropping duplicates based on a specific column\n",
    "\n",
    "Implement your chosen strategy using the `drop_duplicates()` function.\n",
    "\n",
    "Verify that your strategy has successfully handled the duplicates by checking for duplicates again using `.duplicated()`.\n",
    "\n",
    "Remember to document your process and explain your reasoning for choosing a particular strategy for handling duplicates.\n",
    "\n",
    "Save the cleaned dataset to a new CSV file.\n",
    "\n",
    "*Hint*: *after dropping duplicates, reset the index to ensure consistency*."
   ]
  },
  {
   "cell_type": "code",
   "execution_count": 57,
   "id": "1929362c-47ed-47cb-baca-358b78d401a0",
   "metadata": {
    "id": "1929362c-47ed-47cb-baca-358b78d401a0"
   },
   "outputs": [
    {
     "data": {
      "text/plain": [
       "0"
      ]
     },
     "execution_count": 57,
     "metadata": {},
     "output_type": "execute_result"
    }
   ],
   "source": [
    "# We do not have duplicates. \n",
    "df.duplicated().sum()"
   ]
  },
  {
   "cell_type": "markdown",
   "id": "60840701-4783-40e2-b4d8-55303f9100c9",
   "metadata": {
    "id": "60840701-4783-40e2-b4d8-55303f9100c9"
   },
   "source": [
    "# Bonus: Challenge 2: creating functions on a separate `py` file"
   ]
  },
  {
   "cell_type": "markdown",
   "id": "9d1adb3a-17cf-4899-8041-da21a4337fb4",
   "metadata": {
    "id": "9d1adb3a-17cf-4899-8041-da21a4337fb4"
   },
   "source": [
    "Put all the data cleaning and formatting steps into functions, and create a main function that performs all the cleaning and formatting.\n",
    "\n",
    "Write these functions in separate .py file(s). By putting these steps into functions, we can make the code more modular and easier to maintain."
   ]
  },
  {
   "cell_type": "markdown",
   "id": "0e170dc2-b62c-417a-8248-e63ed18a70c4",
   "metadata": {
    "id": "0e170dc2-b62c-417a-8248-e63ed18a70c4"
   },
   "source": [
    "*Hint: autoreload module is a utility module in Python that allows you to automatically reload modules in the current session when changes are made to the source code. This can be useful in situations where you are actively developing code and want to see the effects of changes you make without having to constantly restart the Python interpreter or Jupyter Notebook kernel.*"
   ]
  },
  {
   "cell_type": "code",
   "execution_count": null,
   "id": "a52c6dfc-cd11-4d01-bda4-f719fa33e9a4",
   "metadata": {
    "id": "a52c6dfc-cd11-4d01-bda4-f719fa33e9a4"
   },
   "outputs": [],
   "source": [
    "# Your code here"
   ]
  },
  {
   "cell_type": "markdown",
   "id": "80f846bb-3f5e-4ca2-96c0-900728daca5a",
   "metadata": {
    "id": "80f846bb-3f5e-4ca2-96c0-900728daca5a",
    "tags": []
   },
   "source": [
    "# Bonus: Challenge 3: Analyzing Clean and Formated Data"
   ]
  },
  {
   "cell_type": "markdown",
   "id": "9021630e-cc90-446c-b5bd-264d6c864207",
   "metadata": {
    "id": "9021630e-cc90-446c-b5bd-264d6c864207"
   },
   "source": [
    "You have been tasked with analyzing the data to identify potential areas for improving customer retention and profitability. Your goal is to identify customers with a high policy claim amount and a low customer lifetime value.\n",
    "\n",
    "In the Pandas Lab, we only looked at high policy claim amounts because we couldn't look into low customer lifetime values. If we had tried to work with that column, we wouldn't have been able to because customer lifetime value wasn't clean and in its proper format. So after cleaning and formatting the data, let's get some more interesting insights!\n",
    "\n",
    "Instructions:\n",
    "\n",
    "- Review the statistics again for total claim amount and customer lifetime value to gain an understanding of the data.\n",
    "- To identify potential areas for improving customer retention and profitability, we want to focus on customers with a high policy claim amount and a low customer lifetime value. Consider customers with a high policy claim amount to be those in the top 25% of the total claim amount, and clients with a low customer lifetime value to be those in the bottom 25% of the customer lifetime value. Create a pandas DataFrame object that contains information about customers with a policy claim amount greater than the 75th percentile and a customer lifetime value in the bottom 25th percentile.\n",
    "- Use DataFrame methods to calculate summary statistics about the high policy claim amount and low customer lifetime value data. To do so, select both columns of the dataframe simultaneously and pass it to the `.describe()` method. This will give you descriptive statistics, such as mean, median, standard deviation, minimum and maximum values for both columns at the same time, allowing you to compare and analyze their characteristics."
   ]
  },
  {
   "cell_type": "code",
   "execution_count": null,
   "id": "211e82b5-461a-4d6f-8a23-4deccb84173c",
   "metadata": {
    "id": "211e82b5-461a-4d6f-8a23-4deccb84173c"
   },
   "outputs": [],
   "source": [
    "# Your code here"
   ]
  }
 ],
 "metadata": {
  "colab": {
   "provenance": []
  },
  "kernelspec": {
   "display_name": "Python 3 (ipykernel)",
   "language": "python",
   "name": "python3"
  },
  "language_info": {
   "codemirror_mode": {
    "name": "ipython",
    "version": 3
   },
   "file_extension": ".py",
   "mimetype": "text/x-python",
   "name": "python",
   "nbconvert_exporter": "python",
   "pygments_lexer": "ipython3",
   "version": "3.12.4"
  }
 },
 "nbformat": 4,
 "nbformat_minor": 5
}
